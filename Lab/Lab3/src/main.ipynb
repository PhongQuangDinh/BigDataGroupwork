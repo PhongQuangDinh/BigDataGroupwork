{
 "cells": [
  {
   "cell_type": "code",
   "execution_count": 1,
   "metadata": {},
   "outputs": [],
   "source": [
    "import findspark\n",
    "findspark.init()\n",
    "import pyspark\n",
    "# Creating a SparkSession in Python\n",
    "from pyspark.sql import SparkSession\n",
    "spark = SparkSession.builder.master(\"local\")\\\n",
    "          .appName(\"Spark Streaming Demonstration\")\\\n",
    "          .config(\"spark.some.config.option\", \"some-value\")\\\n",
    "          .getOrCreate()\n",
    "# keep the size of shuffles small\n",
    "spark.conf.set(\"spark.sql.shuffle.partitions\", \"2\") "
   ]
  },
  {
   "cell_type": "code",
   "execution_count": 2,
   "metadata": {},
   "outputs": [],
   "source": [
    "from pyspark.sql.types import *\n",
    "# input path in local filesystem\n",
    "inputPath = '../data/'"
   ]
  },
  {
   "cell_type": "code",
   "execution_count": 3,
   "metadata": {},
   "outputs": [],
   "source": [
    "staticInputDF = (\n",
    "  spark\n",
    "    .read    \n",
    "    .csv(inputPath)\n",
    ")\n",
    "schema = staticInputDF.schema"
   ]
  },
  {
   "cell_type": "code",
   "execution_count": 4,
   "metadata": {},
   "outputs": [
    {
     "data": {
      "text/plain": [
       "StructType([StructField('_c0', StringType(), True), StructField('_c1', StringType(), True), StructField('_c2', StringType(), True), StructField('_c3', StringType(), True), StructField('_c4', StringType(), True), StructField('_c5', StringType(), True), StructField('_c6', StringType(), True), StructField('_c7', StringType(), True), StructField('_c8', StringType(), True), StructField('_c9', StringType(), True), StructField('_c10', StringType(), True), StructField('_c11', StringType(), True), StructField('_c12', StringType(), True), StructField('_c13', StringType(), True), StructField('_c14', StringType(), True), StructField('_c15', StringType(), True), StructField('_c16', StringType(), True), StructField('_c17', StringType(), True), StructField('_c18', StringType(), True), StructField('_c19', StringType(), True)])"
      ]
     },
     "execution_count": 4,
     "metadata": {},
     "output_type": "execute_result"
    }
   ],
   "source": [
    "schema"
   ]
  },
  {
   "cell_type": "code",
   "execution_count": 5,
   "metadata": {},
   "outputs": [
    {
     "data": {
      "text/plain": [
       "True"
      ]
     },
     "execution_count": 5,
     "metadata": {},
     "output_type": "execute_result"
    }
   ],
   "source": [
    "import pyspark.sql.functions as f\n",
    "from pyspark.sql.functions import *\n",
    "\n",
    "# Similar to definition of staticInputDF above, just using `readStream` instead of `read`\n",
    "streamingInputDF = (\n",
    "  spark\n",
    "    .readStream                       \n",
    "    .schema(schema)                # Set the schema of the csv data\n",
    "    .option(\"maxFilesPerTrigger\", 1440)  # Treat a sequence of files as a stream by picking one file at a time\n",
    "    .csv(inputPath)\n",
    ")\n",
    "# cast the Timestamp type since it is not automatically parsed\n",
    "streamingInputDF = streamingInputDF.select(f.col('_c0').alias('Action'), f.col('_c3').alias('Time'))\n",
    "# Same query as staticInputDF\n",
    "streamingCountsDF = (                 \n",
    "  streamingInputDF\n",
    "    .groupBy(\n",
    "      window(streamingInputDF.Time, \"1 hour\"))\n",
    "    .count()\n",
    ")\n",
    "# Is this DF actually a streaming DF?\n",
    "streamingCountsDF.isStreaming"
   ]
  },
  {
   "cell_type": "code",
   "execution_count": 6,
   "metadata": {},
   "outputs": [
    {
     "name": "stdout",
     "output_type": "stream",
     "text": [
      "+------------------------------------------+-----+\n",
      "|window                                    |count|\n",
      "+------------------------------------------+-----+\n",
      "|{2015-12-01 00:00:00, 2015-12-01 01:00:00}|7396 |\n",
      "|{2015-12-01 01:00:00, 2015-12-01 02:00:00}|5780 |\n",
      "|{2015-12-01 02:00:00, 2015-12-01 03:00:00}|3605 |\n",
      "|{2015-12-01 03:00:00, 2015-12-01 04:00:00}|2426 |\n",
      "|{2015-12-01 04:00:00, 2015-12-01 05:00:00}|2505 |\n",
      "|{2015-12-01 05:00:00, 2015-12-01 06:00:00}|3858 |\n",
      "|{2015-12-01 06:00:00, 2015-12-01 07:00:00}|10258|\n",
      "|{2015-12-01 07:00:00, 2015-12-01 08:00:00}|19007|\n",
      "|{2015-12-01 08:00:00, 2015-12-01 09:00:00}|23799|\n",
      "|{2015-12-01 09:00:00, 2015-12-01 10:00:00}|24003|\n",
      "|{2015-12-01 10:00:00, 2015-12-01 11:00:00}|21179|\n",
      "|{2015-12-01 11:00:00, 2015-12-01 12:00:00}|20219|\n",
      "|{2015-12-01 12:00:00, 2015-12-01 13:00:00}|20522|\n",
      "|{2015-12-01 13:00:00, 2015-12-01 14:00:00}|20556|\n",
      "|{2015-12-01 14:00:00, 2015-12-01 15:00:00}|21712|\n",
      "|{2015-12-01 15:00:00, 2015-12-01 16:00:00}|22016|\n",
      "|{2015-12-01 16:00:00, 2015-12-01 17:00:00}|18034|\n",
      "|{2015-12-01 17:00:00, 2015-12-01 18:00:00}|19719|\n",
      "|{2015-12-01 18:00:00, 2015-12-01 19:00:00}|25563|\n",
      "|{2015-12-01 19:00:00, 2015-12-01 20:00:00}|28178|\n",
      "|{2015-12-01 20:00:00, 2015-12-01 21:00:00}|27449|\n",
      "|{2015-12-01 21:00:00, 2015-12-01 22:00:00}|27072|\n",
      "|{2015-12-01 22:00:00, 2015-12-01 23:00:00}|24078|\n",
      "|{2015-12-01 23:00:00, 2015-12-02 00:00:00}|18806|\n",
      "+------------------------------------------+-----+\n",
      "\n"
     ]
    }
   ],
   "source": [
    "# This query stores the aggregation results in memory then visualize it\n",
    "query = (\n",
    "  streamingCountsDF\n",
    "    .writeStream\n",
    "    .format(\"memory\")      \n",
    "    .queryName(\"counts\")   \n",
    "    .outputMode(\"complete\") \n",
    "    .option(\"truncate\", \"false\")\n",
    "    .start()\n",
    ")\n",
    "query.awaitTermination(60)\n",
    "\n",
    "query.stop()\n",
    "\n",
    "result = spark.sql('select * from counts order by window')\n",
    "\n",
    "result.show(result.count(), truncate=False)"
   ]
  },
  {
   "cell_type": "code",
   "execution_count": null,
   "metadata": {},
   "outputs": [],
   "source": [
    "import os\n",
    "\n",
    "count_increment = 360000\n",
    "count = count_increment\n",
    "\n",
    "for row in result.collect():\n",
    "    new_path = f'./output-{count}'\n",
    "\n",
    "    os.makedirs(new_path, exist_ok=True)\n",
    "\n",
    "    with open(f\"{new_path}/output-{count}.txt\", \"w\") as file:\n",
    "        file.write(str(row['count']))\n",
    "        \n",
    "    count += count_increment\n"
   ]
  }
 ],
 "metadata": {
  "kernelspec": {
   "display_name": "Python 3",
   "language": "python",
   "name": "python3"
  },
  "language_info": {
   "codemirror_mode": {
    "name": "ipython",
    "version": 3
   },
   "file_extension": ".py",
   "mimetype": "text/x-python",
   "name": "python",
   "nbconvert_exporter": "python",
   "pygments_lexer": "ipython3",
   "version": "3.11.5"
  }
 },
 "nbformat": 4,
 "nbformat_minor": 2
}
